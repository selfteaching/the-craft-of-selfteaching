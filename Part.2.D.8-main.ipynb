{
 "cells": [
  {
   "cell_type": "markdown",
   "metadata": {},
   "source": [
    "# 可执行的 Python 文件"
   ]
  },
  {
   "cell_type": "markdown",
   "metadata": {},
   "source": [
    "理论上来讲，你最终可以把任何一个程序，无论大小，都封装（或者囊括）到仅仅一个函数之中。按照惯例（Convention），这个函数的名称叫做 `main()`："
   ]
  },
  {
   "cell_type": "code",
   "execution_count": 4,
   "metadata": {},
   "outputs": [
    {
     "name": "stdout",
     "output_type": "stream",
     "text": [
      "Routine 1 done.\n",
      "Sub-routine 1 done.\n",
      "Sub-routine 2 done.\n",
      "Routine 2 done.\n",
      "This is the end of the program.\n"
     ]
    }
   ],
   "source": [
    "def routine_1():\n",
    "    print('Routine 1 done.')\n",
    "\n",
    "def routine_2():\n",
    "    sub_routine_1()\n",
    "    sub_routine_2()\n",
    "    print('Routine 2 done.')\n",
    "    \n",
    "def sub_routine_1():\n",
    "    print('Sub-routine 1 done.')\n",
    "\n",
    "def sub_routine_2():\n",
    "    print('Sub-routine 2 done.')\n",
    "\n",
    "def main():\n",
    "    routine_1()\n",
    "    routine_2()\n",
    "    print('This is the end of the program.')\n",
    "    \n",
    "if __name__ == '__main__':\n",
    "    main()"
   ]
  },
  {
   "cell_type": "markdown",
   "metadata": {},
   "source": [
    "当一个模块（其实就是存有 Python 代码的 `.py` 文件，例如：`mycode.py`）被 `import` 语句导入的时候，这个模块的 `__name__` 就是模块名（例如：`'mycode'`）。\n",
    "\n",
    "而当一个模块被命令行运行的时候，这个模块的 `__name__` 就被 Python 解释器设定为 `'__main__'`。\n",
    "\n",
    "把一个程序整个封装到 `main()` 之中，而后在模块代码里加上：\n",
    "\n",
    "```python\n",
    "if __name__ == '__main__':\n",
    "    main()\n",
    "```\n",
    "\n",
    "这么做的结果是：\n",
    "\n",
    "> 1. 当 Python 文件被当作模块，被 `import` 语句导入时，`if` 判断失败，`main()` 函数不被执行；\n",
    "> 2. 当 Python 文件被 `python -m` 运行的时候，`if` 判断成功，`main()` 函数才被执行。\n",
    "\n",
    "还记得那个 Python 的彩蛋吧？`this.py` 的代码如下："
   ]
  },
  {
   "cell_type": "code",
   "execution_count": null,
   "metadata": {},
   "outputs": [],
   "source": [
    "s = \"\"\"Gur Mra bs Clguba, ol Gvz Crgref\n",
    "Ornhgvshy vf orggre guna htyl.\n",
    "Rkcyvpvg vf orggre guna vzcyvpvg.\n",
    "Fvzcyr vf orggre guna pbzcyrk.\n",
    "Pbzcyrk vf orggre guna pbzcyvpngrq.\n",
    "Syng vf orggre guna arfgrq.\n",
    "Fcnefr vf orggre guna qrafr.\n",
    "Ernqnovyvgl pbhagf.\n",
    "Fcrpvny pnfrf nera'g fcrpvny rabhtu gb oernx gur ehyrf.\n",
    "Nygubhtu cenpgvpnyvgl orngf chevgl.\n",
    "Reebef fubhyq arire cnff fvyragyl.\n",
    "Hayrff rkcyvpvgyl fvyraprq.\n",
    "Va gur snpr bs nzovthvgl, ershfr gur grzcgngvba gb thrff.\n",
    "Gurer fubhyq or bar-- naq cersrenoyl bayl bar --boivbhf jnl gb qb vg.\n",
    "Nygubhtu gung jnl znl abg or boivbhf ng svefg hayrff lbh'er Qhgpu.\n",
    "Abj vf orggre guna arire.\n",
    "Nygubhtu arire vf bsgra orggre guna *evtug* abj.\n",
    "Vs gur vzcyrzragngvba vf uneq gb rkcynva, vg'f n onq vqrn.\n",
    "Vs gur vzcyrzragngvba vf rnfl gb rkcynva, vg znl or n tbbq vqrn.\n",
    "Anzrfcnprf ner bar ubaxvat terng vqrn -- yrg'f qb zber bs gubfr!\"\"\"\n",
    "\n",
    "d = {}\n",
    "for c in (65, 97):\n",
    "    for i in range(26):\n",
    "        d[chr(i+c)] = chr((i+13) % 26 + c)\n",
    "\n",
    "print(\"\".join([d.get(c, c) for c in s]))"
   ]
  },
  {
   "cell_type": "markdown",
   "metadata": {},
   "source": [
    "所以，只要 `import this`，`this.py` 中的代码就被执行："
   ]
  },
  {
   "cell_type": "code",
   "execution_count": null,
   "metadata": {},
   "outputs": [],
   "source": [
    "import this"
   ]
  },
  {
   "cell_type": "markdown",
   "metadata": {},
   "source": [
    "我在当前目录下，保存了一个文件 `that.py`，它的内容如下 —— 其实就是把 `this.py` 之中的代码封装到 `main()` 函数中了："
   ]
  },
  {
   "cell_type": "code",
   "execution_count": 2,
   "metadata": {},
   "outputs": [],
   "source": [
    "# %load that.py\n",
    "def main():\n",
    "\n",
    "    s = \"\"\"Gur Mra bs Clguba, ol Gvz Crgref\n",
    "    Ornhgvshy vf orggre guna htyl.\n",
    "    Rkcyvpvg vf orggre guna vzcyvpvg.\n",
    "    Fvzcyr vf orggre guna pbzcyrk.\n",
    "    Pbzcyrk vf orggre guna pbzcyvpngrq.\n",
    "    Syng vf orggre guna arfgrq.\n",
    "    Fcnefr vf orggre guna qrafr.\n",
    "    Ernqnovyvgl pbhagf.\n",
    "    Fcrpvny pnfrf nera'g fcrpvny rabhtu gb oernx gur ehyrf.\n",
    "    Nygubhtu cenpgvpnyvgl orngf chevgl.\n",
    "    Reebef fubhyq arire cnff fvyragyl.\n",
    "    Hayrff rkcyvpvgyl fvyraprq.\n",
    "    Va gur snpr bs nzovthvgl, ershfr gur grzcgngvba gb thrff.\n",
    "    Gurer fubhyq or bar-- naq cersrenoyl bayl bar --boivbhf jnl gb qb vg.\n",
    "    Nygubhtu gung jnl znl abg or boivbhf ng svefg hayrff lbh'er Qhgpu.\n",
    "    Abj vf orggre guna arire.\n",
    "    Nygubhtu arire vf bsgra orggre guna *evtug* abj.\n",
    "    Vs gur vzcyrzragngvba vf uneq gb rkcynva, vg'f n onq vqrn.\n",
    "    Vs gur vzcyrzragngvba vf rnfl gb rkcynva, vg znl or n tbbq vqrn.\n",
    "    Anzrfcnprf ner bar ubaxvat terng vqrn -- yrg'f qb zber bs gubfr!\"\"\"\n",
    "\n",
    "    d = {}\n",
    "    for c in (65, 97):\n",
    "        for i in range(26):\n",
    "            d[chr(i+c)] = chr((i+13) % 26 + c)\n",
    "\n",
    "    print(\"\".join([d.get(c, c) for c in s]))\n",
    "\n",
    "\n",
    "if __name__ == '__main__':\n",
    "    main()"
   ]
  },
  {
   "cell_type": "markdown",
   "metadata": {},
   "source": [
    "于是，当你在其它地方导入它的时候，`import that`，`main()` 函数的内容不会被执行："
   ]
  },
  {
   "cell_type": "code",
   "execution_count": null,
   "metadata": {},
   "outputs": [],
   "source": [
    "import that"
   ]
  },
  {
   "cell_type": "markdown",
   "metadata": {},
   "source": [
    "但是，你在命令行中，用 `python that.py`，或者 `python -m that` 将 `that.py` 当作可执行模块运行的时候，`main()` 就会被执行 —— 注意，不要写错，`python -m that.py` 会报错的 —— 有 `-m` 参数，就不要写文件尾缀 `.py`："
   ]
  },
  {
   "cell_type": "code",
   "execution_count": null,
   "metadata": {},
   "outputs": [],
   "source": [
    "%%bash\n",
    "python that.py"
   ]
  },
  {
   "cell_type": "code",
   "execution_count": null,
   "metadata": {},
   "outputs": [],
   "source": [
    "%%bash\n",
    "python -m that"
   ]
  },
  {
   "cell_type": "markdown",
   "metadata": {},
   "source": [
    "像 `that.py` 那样把整个程序放进 `main()` 函数之后，`import that` 不会自动执行 main 函数里的代码。不过，你可以调用 that.main()："
   ]
  },
  {
   "cell_type": "code",
   "execution_count": null,
   "metadata": {},
   "outputs": [],
   "source": [
    "import that\n",
    "that.main()"
   ]
  },
  {
   "cell_type": "markdown",
   "metadata": {},
   "source": [
    "当然，`that.py` 之中没有任何 Docstring，所以 `help(that)` 的结果是这样的："
   ]
  },
  {
   "cell_type": "code",
   "execution_count": null,
   "metadata": {},
   "outputs": [],
   "source": [
    "import that\n",
    "help(that)"
   ]
  },
  {
   "cell_type": "markdown",
   "metadata": {},
   "source": [
    "所以，之前那个从 37 万多个词汇中挑出 3700 多个字母加起来等于 100 的词汇的程序，也可以写成以下形式："
   ]
  },
  {
   "cell_type": "code",
   "execution_count": 8,
   "metadata": {},
   "outputs": [],
   "source": [
    "#!/usr/bin/env python\n",
    "\n",
    "def sum_of_word(word):\n",
    "    sum = 0\n",
    "    for char in word:\n",
    "        sum += ord(char) - 96\n",
    "    return sum\n",
    "def main(wordlist, result):\n",
    "    with open(result, 'w') as result:\n",
    "        with open(wordlist, 'r') as file:\n",
    "            for word in file.readlines():\n",
    "                if sum_of_word(word.strip()) == 100:\n",
    "                    result.write(word)\n",
    "\n",
    "if __name__ == '__main__':\n",
    "    main('words_alpha.txt', 'results.txt')"
   ]
  },
  {
   "cell_type": "markdown",
   "metadata": {},
   "source": [
    "至于以上代码中的第一行，`#!/usr/bin/env python` 是怎么回事，建议你自己动手解决一下，去 Google：\n",
    "\n",
    "> [`python3 script executable`](https://www.google.com/search?q=python3+script+executable)\n",
    "\n",
    "你会很快弄明白的……\n",
    "\n",
    "另外，再搜索一下：\n",
    "\n",
    "> [`python3 script executable parameters retrieving`](https://www.google.com/search?q=python3+script+executable+parameters+retrieving)\n",
    "\n",
    "你就可以把以上程序改成在命令行下能够接收指定参数的 Python 可执行文件……"
   ]
  },
  {
   "cell_type": "markdown",
   "metadata": {},
   "source": [
    "顺带说，`import this` 的彩蛋有更好玩的玩法："
   ]
  },
  {
   "cell_type": "code",
   "execution_count": 6,
   "metadata": {},
   "outputs": [
    {
     "data": {
      "text/plain": [
       "True"
      ]
     },
     "execution_count": 6,
     "metadata": {},
     "output_type": "execute_result"
    },
    {
     "data": {
      "text/plain": [
       "False"
      ]
     },
     "execution_count": 6,
     "metadata": {},
     "output_type": "execute_result"
    },
    {
     "data": {
      "text/plain": [
       "False"
      ]
     },
     "execution_count": 6,
     "metadata": {},
     "output_type": "execute_result"
    },
    {
     "data": {
      "text/plain": [
       "True"
      ]
     },
     "execution_count": 6,
     "metadata": {},
     "output_type": "execute_result"
    },
    {
     "data": {
      "text/plain": [
       "True"
      ]
     },
     "execution_count": 6,
     "metadata": {},
     "output_type": "execute_result"
    },
    {
     "data": {
      "text/plain": [
       "True"
      ]
     },
     "execution_count": 6,
     "metadata": {},
     "output_type": "execute_result"
    }
   ],
   "source": [
    "from IPython.core.interactiveshell import InteractiveShell\n",
    "InteractiveShell.ast_node_interactivity = \"all\"\n",
    "\n",
    "import this\n",
    "love = this\n",
    "this is love                            # True\n",
    "love is True                            # False\n",
    "love is False                           # False\n",
    "love is not True or False               # True\n",
    "love is not True or False; love is love # True True"
   ]
  },
  {
   "cell_type": "markdown",
   "metadata": {},
   "source": [
    "在 Terminal 里输入 `python ⏎` 而后在 Interactive Shell 里逐句输入试试。`love = this` 后面的每一句，都是布尔运算，想想看为什么是那样的结果？\n",
    "\n",
    "```python\n",
    "import this\n",
    "love = this\n",
    "\n",
    "this is love      \n",
    "# True, 试试看，id(this) 和 id(love) 是同一个值\n",
    "# 即，它们的内存地址相同\n",
    "\n",
    "love is True       \n",
    "# False, id(love) 和 id(True) 不是同一个值\n",
    "love is False      \n",
    "# 同上\n",
    "\n",
    "\n",
    "love is not True or False  \n",
    "# is not 的优先级比 or 高；所以相当于是：\n",
    "# (love is not True) or False，于是返回 True\n",
    "\n",
    "love is not True or False; love is love  \n",
    "# 重复一次上一句 —— `;` 是语句分隔符\n",
    "# 而后 love is love 当然是 True\n",
    "```\n",
    "\n",
    "注意以下代码中，`id()` 函数的输出结果："
   ]
  },
  {
   "cell_type": "markdown",
   "metadata": {},
   "source": [
    "from IPython.core.interactiveshell import InteractiveShell\n",
    "InteractiveShell.ast_node_interactivity = \"all\"\n",
    "\n",
    "import this\n",
    "love = this\n",
    "this is love\n",
    "love is True\n",
    "love is False\n",
    "love is not True or False\n",
    "love is not True or False; love is love\n",
    "id(love)\n",
    "id(this)\n",
    "id(True)\n",
    "id(False)\n",
    "love is not True"
   ]
  },
  {
   "cell_type": "markdown",
   "metadata": {},
   "source": [
    "Python 的操作符优先级，完整表格在这里：\n",
    "\n",
    "> [Operator precedence](https://docs.python.org/3/reference/expressions.html#operator-precedence)\n",
    "\n",
    "Python 的更多彩蛋：\n",
    "\n",
    "> [Python Easter Eggs](https://github.com/OrkoHunter/python-easter-eggs)"
   ]
  },
  {
   "cell_type": "markdown",
   "metadata": {},
   "source": [
    "<a href=\"./Part.2.E.deliberate-thinking.ipynb\" ><small>Next Page</small></a>"
   ]
  }
 ],
 "metadata": {
  "kernelspec": {
   "display_name": "Python 3 (ipykernel)",
   "language": "python",
   "name": "python3"
  },
  "language_info": {
   "codemirror_mode": {
    "name": "ipython",
    "version": 3
   },
   "file_extension": ".py",
   "mimetype": "text/x-python",
   "name": "python",
   "nbconvert_exporter": "python",
   "pygments_lexer": "ipython3",
   "version": "3.9.7"
  }
 },
 "nbformat": 4,
 "nbformat_minor": 4
}
